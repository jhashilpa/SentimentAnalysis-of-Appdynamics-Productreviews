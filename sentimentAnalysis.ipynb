{
  "nbformat": 4,
  "nbformat_minor": 0,
  "metadata": {
    "colab": {
      "name": "Untitled5.ipynb",
      "provenance": []
    },
    "kernelspec": {
      "name": "python3",
      "display_name": "Python 3"
    },
    "language_info": {
      "name": "python"
    }
  },
  "cells": [
    {
      "cell_type": "code",
      "metadata": {
        "id": "q2UKKk1nM_uT"
      },
      "source": [
        "import numpy as np\n",
        "import pandas as pd\n",
        "import warnings\n",
        "warnings.filterwarnings('ignore')\n",
        "import seaborn as sns\n",
        "from matplotlib import pyplot as plt\n",
        "import nltk\n",
        "import unicodedata\n",
        "import re\n",
        "from nltk.corpus import stopwords\n",
        "from wordcloud import WordCloud\n",
        "from sklearn.feature_extraction.text import TfidfVectorizer\n",
        "from sklearn.ensemble import RandomForestClassifier\n",
        "from sklearn.model_selection import cross_val_score\n",
        "from sklearn.model_selection import train_test_split\n",
        "import matplotlib.pyplot as plt\n",
        "import seaborn as sns\n",
        "from sklearn.metrics import confusion_matrix\n",
        "#!pip install spacy\n",
        "#!python -m spacy download en_core_web_sm\n",
        "#nltk.download('stopwords')\n",
        "import spacy\n",
        "\n",
        "%matplotlib inline"
      ],
      "execution_count": 144,
      "outputs": []
    },
    {
      "cell_type": "code",
      "metadata": {
        "colab": {
          "base_uri": "https://localhost:8080/",
          "height": 202
        },
        "id": "AVD9QlCWP0r9",
        "outputId": "3d2729fa-85b3-47b8-b985-f8d0590c4d6a"
      },
      "source": [
        "df=pd.read_csv(\"reviewsV2.csv\")\n",
        "df.drop(['Unnamed: 0'],axis=1,inplace=True)\n",
        "df.head()"
      ],
      "execution_count": 62,
      "outputs": [
        {
          "output_type": "execute_result",
          "data": {
            "text/html": [
              "<div>\n",
              "<style scoped>\n",
              "    .dataframe tbody tr th:only-of-type {\n",
              "        vertical-align: middle;\n",
              "    }\n",
              "\n",
              "    .dataframe tbody tr th {\n",
              "        vertical-align: top;\n",
              "    }\n",
              "\n",
              "    .dataframe thead th {\n",
              "        text-align: right;\n",
              "    }\n",
              "</style>\n",
              "<table border=\"1\" class=\"dataframe\">\n",
              "  <thead>\n",
              "    <tr style=\"text-align: right;\">\n",
              "      <th></th>\n",
              "      <th>review</th>\n",
              "      <th>class</th>\n",
              "      <th>companyName</th>\n",
              "      <th>companySize</th>\n",
              "      <th>roleName</th>\n",
              "      <th>score</th>\n",
              "    </tr>\n",
              "  </thead>\n",
              "  <tbody>\n",
              "    <tr>\n",
              "      <th>0</th>\n",
              "      <td>AppDynamics community support is really strong...</td>\n",
              "      <td>Positive</td>\n",
              "      <td>Synechron (Information Technology &amp; Services</td>\n",
              "      <td>5001-10</td>\n",
              "      <td>Senior Associate Technology</td>\n",
              "      <td>8</td>\n",
              "    </tr>\n",
              "    <tr>\n",
              "      <th>1</th>\n",
              "      <td>Documentation maintained with each version sup...</td>\n",
              "      <td>Positive</td>\n",
              "      <td>Synechron (Information Technology &amp; Services</td>\n",
              "      <td>5001-10</td>\n",
              "      <td>Senior Associate Technology</td>\n",
              "      <td>8</td>\n",
              "    </tr>\n",
              "    <tr>\n",
              "      <th>2</th>\n",
              "      <td>Trial product is really good as they provide t...</td>\n",
              "      <td>Positive</td>\n",
              "      <td>Synechron (Information Technology &amp; Services</td>\n",
              "      <td>5001-10</td>\n",
              "      <td>Senior Associate Technology</td>\n",
              "      <td>8</td>\n",
              "    </tr>\n",
              "    <tr>\n",
              "      <th>3</th>\n",
              "      <td>In terms of dashboard I believe there is plent...</td>\n",
              "      <td>Negative</td>\n",
              "      <td>Synechron (Information Technology &amp; Services</td>\n",
              "      <td>5001-10</td>\n",
              "      <td>Senior Associate Technology</td>\n",
              "      <td>8</td>\n",
              "    </tr>\n",
              "    <tr>\n",
              "      <th>4</th>\n",
              "      <td>Synthetic monitoring part is still complex and...</td>\n",
              "      <td>Negative</td>\n",
              "      <td>Synechron (Information Technology &amp; Services</td>\n",
              "      <td>5001-10</td>\n",
              "      <td>Senior Associate Technology</td>\n",
              "      <td>8</td>\n",
              "    </tr>\n",
              "  </tbody>\n",
              "</table>\n",
              "</div>"
            ],
            "text/plain": [
              "                                              review  ... score\n",
              "0  AppDynamics community support is really strong...  ...     8\n",
              "1  Documentation maintained with each version sup...  ...     8\n",
              "2  Trial product is really good as they provide t...  ...     8\n",
              "3  In terms of dashboard I believe there is plent...  ...     8\n",
              "4  Synthetic monitoring part is still complex and...  ...     8\n",
              "\n",
              "[5 rows x 6 columns]"
            ]
          },
          "metadata": {},
          "execution_count": 62
        }
      ]
    },
    {
      "cell_type": "code",
      "metadata": {
        "colab": {
          "base_uri": "https://localhost:8080/"
        },
        "id": "c6eU2uluQGOp",
        "outputId": "373f12ac-db3c-4e74-8e6d-32547e73b190"
      },
      "source": [
        "df.info()"
      ],
      "execution_count": 63,
      "outputs": [
        {
          "output_type": "stream",
          "name": "stdout",
          "text": [
            "<class 'pandas.core.frame.DataFrame'>\n",
            "RangeIndex: 160 entries, 0 to 159\n",
            "Data columns (total 6 columns):\n",
            " #   Column       Non-Null Count  Dtype \n",
            "---  ------       --------------  ----- \n",
            " 0   review       160 non-null    object\n",
            " 1   class        160 non-null    object\n",
            " 2   companyName  160 non-null    object\n",
            " 3   companySize  160 non-null    object\n",
            " 4   roleName     160 non-null    object\n",
            " 5   score        160 non-null    int64 \n",
            "dtypes: int64(1), object(5)\n",
            "memory usage: 7.6+ KB\n"
          ]
        }
      ]
    },
    {
      "cell_type": "code",
      "metadata": {
        "colab": {
          "base_uri": "https://localhost:8080/",
          "height": 294
        },
        "id": "3yXMqpVlP1Bt",
        "outputId": "25c62c18-5c55-4c35-df0b-4daa649d3204"
      },
      "source": [
        "df.describe()"
      ],
      "execution_count": 64,
      "outputs": [
        {
          "output_type": "execute_result",
          "data": {
            "text/html": [
              "<div>\n",
              "<style scoped>\n",
              "    .dataframe tbody tr th:only-of-type {\n",
              "        vertical-align: middle;\n",
              "    }\n",
              "\n",
              "    .dataframe tbody tr th {\n",
              "        vertical-align: top;\n",
              "    }\n",
              "\n",
              "    .dataframe thead th {\n",
              "        text-align: right;\n",
              "    }\n",
              "</style>\n",
              "<table border=\"1\" class=\"dataframe\">\n",
              "  <thead>\n",
              "    <tr style=\"text-align: right;\">\n",
              "      <th></th>\n",
              "      <th>score</th>\n",
              "    </tr>\n",
              "  </thead>\n",
              "  <tbody>\n",
              "    <tr>\n",
              "      <th>count</th>\n",
              "      <td>160.000000</td>\n",
              "    </tr>\n",
              "    <tr>\n",
              "      <th>mean</th>\n",
              "      <td>8.531250</td>\n",
              "    </tr>\n",
              "    <tr>\n",
              "      <th>std</th>\n",
              "      <td>1.491788</td>\n",
              "    </tr>\n",
              "    <tr>\n",
              "      <th>min</th>\n",
              "      <td>3.000000</td>\n",
              "    </tr>\n",
              "    <tr>\n",
              "      <th>25%</th>\n",
              "      <td>8.000000</td>\n",
              "    </tr>\n",
              "    <tr>\n",
              "      <th>50%</th>\n",
              "      <td>9.000000</td>\n",
              "    </tr>\n",
              "    <tr>\n",
              "      <th>75%</th>\n",
              "      <td>10.000000</td>\n",
              "    </tr>\n",
              "    <tr>\n",
              "      <th>max</th>\n",
              "      <td>10.000000</td>\n",
              "    </tr>\n",
              "  </tbody>\n",
              "</table>\n",
              "</div>"
            ],
            "text/plain": [
              "            score\n",
              "count  160.000000\n",
              "mean     8.531250\n",
              "std      1.491788\n",
              "min      3.000000\n",
              "25%      8.000000\n",
              "50%      9.000000\n",
              "75%     10.000000\n",
              "max     10.000000"
            ]
          },
          "metadata": {},
          "execution_count": 64
        }
      ]
    },
    {
      "cell_type": "code",
      "metadata": {
        "colab": {
          "base_uri": "https://localhost:8080/"
        },
        "id": "l4iwwK8rQiaJ",
        "outputId": "dd497062-41a4-4de8-a9bf-047cdbabbea4"
      },
      "source": [
        "df.isnull().sum()"
      ],
      "execution_count": 12,
      "outputs": [
        {
          "output_type": "execute_result",
          "data": {
            "text/plain": [
              "review         0\n",
              "class          0\n",
              "companyName    0\n",
              "companySize    0\n",
              "roleName       0\n",
              "score          0\n",
              "dtype: int64"
            ]
          },
          "metadata": {},
          "execution_count": 12
        }
      ]
    },
    {
      "cell_type": "code",
      "metadata": {
        "colab": {
          "base_uri": "https://localhost:8080/",
          "height": 296
        },
        "id": "qYqkCNrdQoPj",
        "outputId": "72897754-2fc2-4a48-cdc7-12441941eae0"
      },
      "source": [
        "sns.countplot(df['class'])"
      ],
      "execution_count": 105,
      "outputs": [
        {
          "output_type": "execute_result",
          "data": {
            "text/plain": [
              "<matplotlib.axes._subplots.AxesSubplot at 0x7ffa93ec0350>"
            ]
          },
          "metadata": {},
          "execution_count": 105
        },
        {
          "output_type": "display_data",
          "data": {
            "image/png": "[encoded data removed]",
            "text/plain": [
              "<Figure size 432x288 with 1 Axes>"
            ]
          },
          "metadata": {
            "needs_background": "light"
          }
        }
      ]
    },
    {
      "cell_type": "markdown",
      "metadata": {
        "id": "v9Y-ojyVsP8q"
      },
      "source": [
        "Defining Class for Data Cleaning functionalities"
      ]
    },
    {
      "cell_type": "code",
      "metadata": {
        "id": "o8gp7xutTwkz"
      },
      "source": [
        "class PreProcess:\n",
        "  def __init__(self):\n",
        "    print(\"Initialzed\")\n",
        " \n",
        "  \n",
        "  def cleanData( self,text):\n",
        "    #1.Convert special chars to normal English chars\n",
        "    review_text = unicodedata.normalize('NFKD', text).encode('ascii', 'ignore').decode('utf-8', 'ignore')\n",
        "\n",
        "    # 2. Remove non-letters        \n",
        "    letters_only = re.sub(\"[^a-zA-Z]\", \" \", review_text) \n",
        "    \n",
        "    # 3.Convert to lower case, split into individual words\n",
        "    words = letters_only.lower().split()                             \n",
        "    \n",
        "    #4.Remove stopWOrds\n",
        "    stopword_list = nltk.corpus.stopwords.words('english')\n",
        "    #print(stopword_list)\n",
        "    stopword_list.remove('no')\n",
        "    stopword_list.remove('not')\n",
        "    stopword_list.append('appdynamics')\n",
        "    clean_text = [w for w in words if not w in stopword_list]   \n",
        "    \n",
        "    # 6. Join the words back into one string separated by space, \n",
        "    # and return the result.\n",
        "    final_text=\" \".join(clean_text)\n",
        "    #final_text=self.lemmatize_text(clean_text)\n",
        "    #print(\"final_text is\",final_text)\n",
        "    return(final_text) \n",
        "\n",
        "  def lemmatize_text(self,text):\n",
        "    #print(\"I am here\")\n",
        "    nlp = spacy.load('en_core_web_sm', parse=True, tag=True, entity=True)\n",
        "    text = nlp(text)\n",
        "    #print(text)\n",
        "    text = ' '.join([word.lemma_ if word.lemma_ != '-PRON-' else word.text for word in text])\n",
        "    return text\n",
        "\n",
        "\n",
        " \n",
        "  \n",
        "\n",
        " \n",
        "  \n"
      ],
      "execution_count": 154,
      "outputs": []
    },
    {
      "cell_type": "code",
      "metadata": {
        "colab": {
          "base_uri": "https://localhost:8080/",
          "height": 202
        },
        "id": "uRGhLJqxNoHU",
        "outputId": "48cced89-0709-4e87-ee42-4265de412879"
      },
      "source": [
        "reviewdf=df[['review','class']]\n",
        "reviewdf.head()"
      ],
      "execution_count": 155,
      "outputs": [
        {
          "output_type": "execute_result",
          "data": {
            "text/html": [
              "<div>\n",
              "<style scoped>\n",
              "    .dataframe tbody tr th:only-of-type {\n",
              "        vertical-align: middle;\n",
              "    }\n",
              "\n",
              "    .dataframe tbody tr th {\n",
              "        vertical-align: top;\n",
              "    }\n",
              "\n",
              "    .dataframe thead th {\n",
              "        text-align: right;\n",
              "    }\n",
              "</style>\n",
              "<table border=\"1\" class=\"dataframe\">\n",
              "  <thead>\n",
              "    <tr style=\"text-align: right;\">\n",
              "      <th></th>\n",
              "      <th>review</th>\n",
              "      <th>class</th>\n",
              "    </tr>\n",
              "  </thead>\n",
              "  <tbody>\n",
              "    <tr>\n",
              "      <th>0</th>\n",
              "      <td>AppDynamics community support is really strong...</td>\n",
              "      <td>Positive</td>\n",
              "    </tr>\n",
              "    <tr>\n",
              "      <th>1</th>\n",
              "      <td>Documentation maintained with each version sup...</td>\n",
              "      <td>Positive</td>\n",
              "    </tr>\n",
              "    <tr>\n",
              "      <th>2</th>\n",
              "      <td>Trial product is really good as they provide t...</td>\n",
              "      <td>Positive</td>\n",
              "    </tr>\n",
              "    <tr>\n",
              "      <th>3</th>\n",
              "      <td>In terms of dashboard I believe there is plent...</td>\n",
              "      <td>Negative</td>\n",
              "    </tr>\n",
              "    <tr>\n",
              "      <th>4</th>\n",
              "      <td>Synthetic monitoring part is still complex and...</td>\n",
              "      <td>Negative</td>\n",
              "    </tr>\n",
              "  </tbody>\n",
              "</table>\n",
              "</div>"
            ],
            "text/plain": [
              "                                              review     class\n",
              "0  AppDynamics community support is really strong...  Positive\n",
              "1  Documentation maintained with each version sup...  Positive\n",
              "2  Trial product is really good as they provide t...  Positive\n",
              "3  In terms of dashboard I believe there is plent...  Negative\n",
              "4  Synthetic monitoring part is still complex and...  Negative"
            ]
          },
          "metadata": {},
          "execution_count": 155
        }
      ]
    },
    {
      "cell_type": "markdown",
      "metadata": {
        "id": "0ylJ6usYsZ3P"
      },
      "source": [
        "Calling above function from the PreProcess class to clean the data"
      ]
    },
    {
      "cell_type": "code",
      "metadata": {
        "colab": {
          "base_uri": "https://localhost:8080/"
        },
        "id": "9lHzm12pY75u",
        "outputId": "43e39be1-99b5-40de-81d4-20d17d0fbc5f"
      },
      "source": [
        "# Get the number of reviews based on the dataframe column size\n",
        "preprocessObj=PreProcess()\n",
        "totalReviews = reviewdf[\"class\"].size\n",
        "print(totalReviews)\n",
        "# Initialize an empty list to hold the clean reviews\n",
        "cleanReviews = []\n",
        "for i in range( 0,totalReviews ):\n",
        "    # clean reviews\n",
        "    cleanReviews.append(preprocessObj.cleanData(reviewdf[\"review\"][i] ) )"
      ],
      "execution_count": 156,
      "outputs": [
        {
          "output_type": "stream",
          "name": "stdout",
          "text": [
            "Initialzed\n",
            "160\n"
          ]
        }
      ]
    },
    {
      "cell_type": "markdown",
      "metadata": {
        "id": "xhPADL0Rso7H"
      },
      "source": [
        "Creating sepearte column to store the cleanedReview. It will be useful while creating World Cloud"
      ]
    },
    {
      "cell_type": "code",
      "metadata": {
        "colab": {
          "base_uri": "https://localhost:8080/",
          "height": 202
        },
        "id": "rPNNZdUOeisV",
        "outputId": "fe728d03-29de-4bd3-de8a-5ac6c75cc0fe"
      },
      "source": [
        "reviewdf['cleanReviews']=cleanReviews\n",
        "reviewdf.head()"
      ],
      "execution_count": 157,
      "outputs": [
        {
          "output_type": "execute_result",
          "data": {
            "text/html": [
              "<div>\n",
              "<style scoped>\n",
              "    .dataframe tbody tr th:only-of-type {\n",
              "        vertical-align: middle;\n",
              "    }\n",
              "\n",
              "    .dataframe tbody tr th {\n",
              "        vertical-align: top;\n",
              "    }\n",
              "\n",
              "    .dataframe thead th {\n",
              "        text-align: right;\n",
              "    }\n",
              "</style>\n",
              "<table border=\"1\" class=\"dataframe\">\n",
              "  <thead>\n",
              "    <tr style=\"text-align: right;\">\n",
              "      <th></th>\n",
              "      <th>review</th>\n",
              "      <th>class</th>\n",
              "      <th>cleanReviews</th>\n",
              "    </tr>\n",
              "  </thead>\n",
              "  <tbody>\n",
              "    <tr>\n",
              "      <th>0</th>\n",
              "      <td>AppDynamics community support is really strong...</td>\n",
              "      <td>Positive</td>\n",
              "      <td>community support really strong even not premi...</td>\n",
              "    </tr>\n",
              "    <tr>\n",
              "      <th>1</th>\n",
              "      <td>Documentation maintained with each version sup...</td>\n",
              "      <td>Positive</td>\n",
              "      <td>documentation maintained version support quite...</td>\n",
              "    </tr>\n",
              "    <tr>\n",
              "      <th>2</th>\n",
              "      <td>Trial product is really good as they provide t...</td>\n",
              "      <td>Positive</td>\n",
              "      <td>trial product really good provide option runni...</td>\n",
              "    </tr>\n",
              "    <tr>\n",
              "      <th>3</th>\n",
              "      <td>In terms of dashboard I believe there is plent...</td>\n",
              "      <td>Negative</td>\n",
              "      <td>terms dashboard believe plenty room improvemen...</td>\n",
              "    </tr>\n",
              "    <tr>\n",
              "      <th>4</th>\n",
              "      <td>Synthetic monitoring part is still complex and...</td>\n",
              "      <td>Negative</td>\n",
              "      <td>synthetic monitoring part still complex need a...</td>\n",
              "    </tr>\n",
              "  </tbody>\n",
              "</table>\n",
              "</div>"
            ],
            "text/plain": [
              "                                              review  ...                                       cleanReviews\n",
              "0  AppDynamics community support is really strong...  ...  community support really strong even not premi...\n",
              "1  Documentation maintained with each version sup...  ...  documentation maintained version support quite...\n",
              "2  Trial product is really good as they provide t...  ...  trial product really good provide option runni...\n",
              "3  In terms of dashboard I believe there is plent...  ...  terms dashboard believe plenty room improvemen...\n",
              "4  Synthetic monitoring part is still complex and...  ...  synthetic monitoring part still complex need a...\n",
              "\n",
              "[5 rows x 3 columns]"
            ]
          },
          "metadata": {},
          "execution_count": 157
        }
      ]
    },
    {
      "cell_type": "markdown",
      "metadata": {
        "id": "FekFxlWYwRGe"
      },
      "source": [
        "Creating Class for Training the model and doing predictions"
      ]
    },
    {
      "cell_type": "code",
      "metadata": {
        "id": "b6zE6jKLge7N"
      },
      "source": [
        "#Doing Vectorization- Using TfidfVectorizer to convert text data to numbers.\n",
        "class Train:\n",
        "  def __init__(self):\n",
        "    print(\"Initailzed Train class\")\n",
        "    self.forest=RandomForestClassifier()\n",
        "\n",
        "  def splitDataset(self,data_features,labels):\n",
        "    X_train, X_test, y_train, y_test = train_test_split(data_features,labels, test_size=0.2, random_state=10)\n",
        "    return(X_train,X_test,y_train,y_test)\n",
        "\n",
        "\n",
        "  def trainModel(self,cleanReviews):\n",
        "    vectorizer = TfidfVectorizer(max_features=2000)\n",
        "    data_features = vectorizer.fit_transform(cleanReviews)\n",
        "    data_features = data_features.toarray()\n",
        "    print(\"Datafeatures shape is\",data_features.shape)\n",
        "    labels = reviewdf['class']\n",
        "    X_train, X_test, y_train, y_test=self.splitDataset(data_features,labels)\n",
        "    self.setTrainTestData(X_train, X_test, y_train, y_test)\n",
        "    self.forest = RandomForestClassifier(n_estimators=50)\n",
        "    self.forest = self.forest.fit(X_train, y_train)\n",
        "    print(self.forest)\n",
        "    print(np.mean(cross_val_score(self.forest, data_features, labels, cv=10)))\n",
        "\n",
        "  def getModel(self):\n",
        "    return self.forest\n",
        "  def setTrainTestData(self,X_train, X_test, y_train, y_test):\n",
        "    self.X_train=X_train\n",
        "    self.X_test=X_test\n",
        "    self.y_train=y_train\n",
        "    self.y_test=y_test\n",
        "\n",
        "\n",
        "\n",
        "\n",
        " "
      ],
      "execution_count": 158,
      "outputs": []
    },
    {
      "cell_type": "markdown",
      "metadata": {
        "id": "wvqgIXiFWPMq"
      },
      "source": [
        "Creating Class for Testing the Model. This model inherits the Train Class so that it could use the model object of the base class while doing predictions"
      ]
    },
    {
      "cell_type": "code",
      "metadata": {
        "id": "jOg-spNlQWn2"
      },
      "source": [
        "class Test(Train):\n",
        "  def __init__(self):\n",
        "    self.result=''\n",
        "  def testModel(self):\n",
        "    model=self.getModel()\n",
        "    self.result = model.predict(self.X_test)\n",
        "    print(\"Prediction are\",self.result)\n",
        "\n",
        "\n",
        "  "
      ],
      "execution_count": 159,
      "outputs": []
    },
    {
      "cell_type": "markdown",
      "metadata": {
        "id": "_JmruxFOWeXe"
      },
      "source": [
        "Craeting Object of Test class and calling the respective Training and Testing methods"
      ]
    },
    {
      "cell_type": "code",
      "metadata": {
        "colab": {
          "base_uri": "https://localhost:8080/"
        },
        "id": "HnuTH_UNjCAR",
        "outputId": "625ce13e-2236-4a26-eb8e-5853d5d10c9e"
      },
      "source": [
        "# Using Random Forest to build model for the classification of reviews.\n",
        "# Also calculating the cross validation score.\n",
        "testObj=Test()\n",
        "testObj.trainModel(cleanReviews)\n",
        "\n"
      ],
      "execution_count": 166,
      "outputs": [
        {
          "output_type": "stream",
          "name": "stdout",
          "text": [
            "Datafeatures shape is (160, 623)\n",
            "RandomForestClassifier(n_estimators=50)\n",
            "0.70625\n"
          ]
        }
      ]
    },
    {
      "cell_type": "code",
      "metadata": {
        "colab": {
          "base_uri": "https://localhost:8080/"
        },
        "id": "Y62oDEv5QVsT",
        "outputId": "4b7b6474-ec4e-4e1c-eb0e-59e3ebfa18fa"
      },
      "source": [
        "testObj.testModel()"
      ],
      "execution_count": 167,
      "outputs": [
        {
          "output_type": "stream",
          "name": "stdout",
          "text": [
            "Prediction are ['Positive' 'Positive' 'Positive' 'Positive' 'Negative' 'Positive'\n",
            " 'Negative' 'Negative' 'Positive' 'Negative' 'Negative' 'Positive'\n",
            " 'Positive' 'Positive' 'Positive' 'Positive' 'Positive' 'Negative'\n",
            " 'Positive' 'Positive' 'Positive' 'Positive' 'Positive' 'Positive'\n",
            " 'Negative' 'Negative' 'Negative' 'Positive' 'Positive' 'Positive'\n",
            " 'Negative' 'Negative']\n"
          ]
        }
      ]
    },
    {
      "cell_type": "code",
      "metadata": {
        "colab": {
          "base_uri": "https://localhost:8080/",
          "height": 481
        },
        "id": "X2vUYYcZjQGv",
        "outputId": "0a21319e-7e4c-41a5-e904-d8a2fb1968ca"
      },
      "source": [
        "# Print and plot Confusion matirx to get an idea of how the distribution of the prediction is, among all the classes.\n",
        "conf_mat = confusion_matrix(testObj.y_test, testObj.result)\n",
        "print(conf_mat)\n",
        "df_cm = pd.DataFrame(conf_mat, index = [i for i in ['Negative', 'Positive']],\n",
        "                  columns = [i for i in ['Negative', 'Positive']])\n",
        "plt.figure(figsize = (10,7))\n",
        "sns.heatmap(df_cm, annot=True, fmt='g')"
      ],
      "execution_count": 168,
      "outputs": [
        {
          "output_type": "stream",
          "name": "stdout",
          "text": [
            "[[ 8  2]\n",
            " [ 3 19]]\n"
          ]
        },
        {
          "output_type": "execute_result",
          "data": {
            "text/plain": [
              "<matplotlib.axes._subplots.AxesSubplot at 0x7fd7c2d6aa50>"
            ]
          },
          "metadata": {},
          "execution_count": 168
        },
        {
          "output_type": "display_data",
          "data": {
            "image/png": "[encoded data removed]",
            "text/plain": [
              "<Figure size 720x504 with 2 Axes>"
            ]
          },
          "metadata": {
            "needs_background": "light"
          }
        }
      ]
    },
    {
      "cell_type": "markdown",
      "metadata": {
        "id": "s-4gt17YrYO_"
      },
      "source": [
        "Out of total 22 positive reviews 3 reviews are classified as Negative reviews\n",
        "Out of total 10 negative reviews 2 reviews are classified as Positive "
      ]
    },
    {
      "cell_type": "code",
      "metadata": {
        "colab": {
          "base_uri": "https://localhost:8080/"
        },
        "id": "CS_nSPZkYKDS",
        "outputId": "6d1b340d-1c1e-42f0-ad10-95a688eb7802"
      },
      "source": [
        "#Accuracy Metrics\n",
        "from sklearn.metrics import accuracy_score, confusion_matrix\n",
        "accuracy = accuracy_score(testObj.y_test,testObj.result)\n",
        "print(\"Accuracy of the model is\", round(accuracy*100,2) ,\"%\")"
      ],
      "execution_count": 172,
      "outputs": [
        {
          "output_type": "stream",
          "name": "stdout",
          "text": [
            "Accuracy of the model is 84.38 %\n"
          ]
        }
      ]
    },
    {
      "cell_type": "code",
      "metadata": {
        "colab": {
          "base_uri": "https://localhost:8080/"
        },
        "id": "-Srn3zL2jxKt",
        "outputId": "4736b58b-429b-4572-baa1-61649f9d2f9c"
      },
      "source": [
        "#Distribution of Test Data\n",
        "testObj.y_test.value_counts()"
      ],
      "execution_count": 169,
      "outputs": [
        {
          "output_type": "execute_result",
          "data": {
            "text/plain": [
              "Positive    22\n",
              "Negative    10\n",
              "Name: class, dtype: int64"
            ]
          },
          "metadata": {},
          "execution_count": 169
        }
      ]
    },
    {
      "cell_type": "code",
      "metadata": {
        "colab": {
          "base_uri": "https://localhost:8080/",
          "height": 723
        },
        "id": "8bAe2Tl-Zql7",
        "outputId": "c9984eb1-3653-4ce6-8e0e-fddbd00cfd77"
      },
      "source": [
        "newdf=pd.DataFrame()\n",
        "newdf['original']=testObj.y_test\n",
        "newdf['predicted']=testObj.result\n",
        "newdf[newdf['original']=='Positive']"
      ],
      "execution_count": 170,
      "outputs": [
        {
          "output_type": "execute_result",
          "data": {
            "text/html": [
              "<div>\n",
              "<style scoped>\n",
              "    .dataframe tbody tr th:only-of-type {\n",
              "        vertical-align: middle;\n",
              "    }\n",
              "\n",
              "    .dataframe tbody tr th {\n",
              "        vertical-align: top;\n",
              "    }\n",
              "\n",
              "    .dataframe thead th {\n",
              "        text-align: right;\n",
              "    }\n",
              "</style>\n",
              "<table border=\"1\" class=\"dataframe\">\n",
              "  <thead>\n",
              "    <tr style=\"text-align: right;\">\n",
              "      <th></th>\n",
              "      <th>original</th>\n",
              "      <th>predicted</th>\n",
              "    </tr>\n",
              "  </thead>\n",
              "  <tbody>\n",
              "    <tr>\n",
              "      <th>35</th>\n",
              "      <td>Positive</td>\n",
              "      <td>Positive</td>\n",
              "    </tr>\n",
              "    <tr>\n",
              "      <th>132</th>\n",
              "      <td>Positive</td>\n",
              "      <td>Positive</td>\n",
              "    </tr>\n",
              "    <tr>\n",
              "      <th>47</th>\n",
              "      <td>Positive</td>\n",
              "      <td>Positive</td>\n",
              "    </tr>\n",
              "    <tr>\n",
              "      <th>24</th>\n",
              "      <td>Positive</td>\n",
              "      <td>Positive</td>\n",
              "    </tr>\n",
              "    <tr>\n",
              "      <th>90</th>\n",
              "      <td>Positive</td>\n",
              "      <td>Negative</td>\n",
              "    </tr>\n",
              "    <tr>\n",
              "      <th>138</th>\n",
              "      <td>Positive</td>\n",
              "      <td>Positive</td>\n",
              "    </tr>\n",
              "    <tr>\n",
              "      <th>129</th>\n",
              "      <td>Positive</td>\n",
              "      <td>Negative</td>\n",
              "    </tr>\n",
              "    <tr>\n",
              "      <th>58</th>\n",
              "      <td>Positive</td>\n",
              "      <td>Positive</td>\n",
              "    </tr>\n",
              "    <tr>\n",
              "      <th>39</th>\n",
              "      <td>Positive</td>\n",
              "      <td>Positive</td>\n",
              "    </tr>\n",
              "    <tr>\n",
              "      <th>20</th>\n",
              "      <td>Positive</td>\n",
              "      <td>Positive</td>\n",
              "    </tr>\n",
              "    <tr>\n",
              "      <th>38</th>\n",
              "      <td>Positive</td>\n",
              "      <td>Positive</td>\n",
              "    </tr>\n",
              "    <tr>\n",
              "      <th>152</th>\n",
              "      <td>Positive</td>\n",
              "      <td>Positive</td>\n",
              "    </tr>\n",
              "    <tr>\n",
              "      <th>102</th>\n",
              "      <td>Positive</td>\n",
              "      <td>Positive</td>\n",
              "    </tr>\n",
              "    <tr>\n",
              "      <th>1</th>\n",
              "      <td>Positive</td>\n",
              "      <td>Negative</td>\n",
              "    </tr>\n",
              "    <tr>\n",
              "      <th>67</th>\n",
              "      <td>Positive</td>\n",
              "      <td>Positive</td>\n",
              "    </tr>\n",
              "    <tr>\n",
              "      <th>97</th>\n",
              "      <td>Positive</td>\n",
              "      <td>Positive</td>\n",
              "    </tr>\n",
              "    <tr>\n",
              "      <th>19</th>\n",
              "      <td>Positive</td>\n",
              "      <td>Positive</td>\n",
              "    </tr>\n",
              "    <tr>\n",
              "      <th>98</th>\n",
              "      <td>Positive</td>\n",
              "      <td>Positive</td>\n",
              "    </tr>\n",
              "    <tr>\n",
              "      <th>134</th>\n",
              "      <td>Positive</td>\n",
              "      <td>Positive</td>\n",
              "    </tr>\n",
              "    <tr>\n",
              "      <th>103</th>\n",
              "      <td>Positive</td>\n",
              "      <td>Positive</td>\n",
              "    </tr>\n",
              "    <tr>\n",
              "      <th>135</th>\n",
              "      <td>Positive</td>\n",
              "      <td>Positive</td>\n",
              "    </tr>\n",
              "    <tr>\n",
              "      <th>116</th>\n",
              "      <td>Positive</td>\n",
              "      <td>Positive</td>\n",
              "    </tr>\n",
              "  </tbody>\n",
              "</table>\n",
              "</div>"
            ],
            "text/plain": [
              "     original predicted\n",
              "35   Positive  Positive\n",
              "132  Positive  Positive\n",
              "47   Positive  Positive\n",
              "24   Positive  Positive\n",
              "90   Positive  Negative\n",
              "138  Positive  Positive\n",
              "129  Positive  Negative\n",
              "58   Positive  Positive\n",
              "39   Positive  Positive\n",
              "20   Positive  Positive\n",
              "38   Positive  Positive\n",
              "152  Positive  Positive\n",
              "102  Positive  Positive\n",
              "1    Positive  Negative\n",
              "67   Positive  Positive\n",
              "97   Positive  Positive\n",
              "19   Positive  Positive\n",
              "98   Positive  Positive\n",
              "134  Positive  Positive\n",
              "103  Positive  Positive\n",
              "135  Positive  Positive\n",
              "116  Positive  Positive"
            ]
          },
          "metadata": {},
          "execution_count": 170
        }
      ]
    },
    {
      "cell_type": "markdown",
      "metadata": {
        "id": "b2s5gACer10a"
      },
      "source": [
        "Implementing World Cloud"
      ]
    },
    {
      "cell_type": "code",
      "metadata": {
        "colab": {
          "base_uri": "https://localhost:8080/",
          "height": 264
        },
        "id": "mo47JzOSQ7p-",
        "outputId": "384c9160-f130-41cf-eac0-f9c098344e8e"
      },
      "source": [
        "wordcloud = WordCloud(height=5000, width=5000, background_color='black')\n",
        "wordcloud = wordcloud.generate(' '.join(reviewdf.loc[reviewdf['class']=='Positive','cleanReviews'].tolist()))\n",
        "plt.imshow(wordcloud)\n",
        "plt.title(\"Most common words in positive customer Reviews\")\n",
        "plt.axis('off')\n",
        "plt.show()"
      ],
      "execution_count": 171,
      "outputs": [
        {
          "output_type": "display_data",
          "data": {
            "image/png": "[encoded data removed]",
            "text/plain": [
              "<Figure size 432x288 with 1 Axes>"
            ]
          },
          "metadata": {
            "needs_background": "light"
          }
        }
      ]
    },
    {
      "cell_type": "markdown",
      "metadata": {
        "id": "E-Kl7oyGYncf"
      },
      "source": [
        "Some  words related to poistive reviews are Performance,Monitoring,easy,information etc"
      ]
    },
    {
      "cell_type": "code",
      "metadata": {
        "id": "occe5iZiYm0y"
      },
      "source": [
        ""
      ],
      "execution_count": null,
      "outputs": []
    },
    {
      "cell_type": "code",
      "metadata": {
        "id": "MgApbxUuqQl9"
      },
      "source": [
        "wordcloud = WordCloud(height=10000, width=10000, background_color='black')\n",
        "wordcloud = wordcloud.generate(' '.join(reviewdf.loc[reviewdf['class']=='Negative','cleanReviews'].tolist()))\n",
        "plt.imshow(wordcloud)\n",
        "plt.title(\"Most common words in Negative customer Reviews\")\n",
        "plt.axis('off')\n",
        "plt.show()"
      ],
      "execution_count": null,
      "outputs": []
    },
    {
      "cell_type": "markdown",
      "metadata": {
        "id": "vMsF_5khY2ro"
      },
      "source": [
        ""
      ]
    },
    {
      "cell_type": "code",
      "metadata": {
        "id": "Dn9rDCxprnpV"
      },
      "source": [
        "Some  words related to negative reviews are Performance,Monitoring,easy,information etc"
      ],
      "execution_count": null,
      "outputs": []
    },
    {
      "cell_type": "markdown",
      "metadata": {
        "id": "HU62opT8Y64K"
      },
      "source": [
        "However,With ample amount of data ,We could have acheived better result."
      ]
    },
    {
      "cell_type": "code",
      "metadata": {
        "id": "vtZP7c78Y_6d"
      },
      "source": [
        ""
      ],
      "execution_count": null,
      "outputs": []
    }
  ]
}